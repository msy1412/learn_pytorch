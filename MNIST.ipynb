{
 "cells": [
  {
   "cell_type": "code",
   "execution_count": 1,
   "metadata": {},
   "outputs": [],
   "source": [
    "import torch\n",
    "import torchvision\n",
    "from torchvision import datasets, transforms\n",
    "from torch.autograd import Variable\n",
    "import numpy\n",
    "import matplotlib.pyplot as plt"
   ]
  },
  {
   "cell_type": "code",
   "execution_count": 10,
   "metadata": {
    "collapsed": true,
    "jupyter": {
     "outputs_hidden": true
    }
   },
   "outputs": [
    {
     "name": "stderr",
     "output_type": "stream",
     "text": [
      "0it [00:00, ?it/s]"
     ]
    },
    {
     "name": "stdout",
     "output_type": "stream",
     "text": [
      "Downloading http://yann.lecun.com/exdb/mnist/train-images-idx3-ubyte.gz to ./MINIST/MNIST/raw/train-images-idx3-ubyte.gz\n"
     ]
    },
    {
     "name": "stderr",
     "output_type": "stream",
     "text": [
      " 98%|█████████▊| 9756672/9912422 [00:26<00:00, 349213.41it/s]"
     ]
    },
    {
     "name": "stdout",
     "output_type": "stream",
     "text": [
      "Extracting ./MINIST/MNIST/raw/train-images-idx3-ubyte.gz\n"
     ]
    },
    {
     "name": "stderr",
     "output_type": "stream",
     "text": [
      "\n",
      "0it [00:00, ?it/s]\u001b[A"
     ]
    },
    {
     "name": "stdout",
     "output_type": "stream",
     "text": [
      "Downloading http://yann.lecun.com/exdb/mnist/train-labels-idx1-ubyte.gz to ./MINIST/MNIST/raw/train-labels-idx1-ubyte.gz\n"
     ]
    },
    {
     "name": "stderr",
     "output_type": "stream",
     "text": [
      "\n",
      "  0%|          | 0/28881 [00:01<?, ?it/s]\u001b[A\n",
      "32768it [00:01, 17637.48it/s]                           \u001b[A\n",
      "\n",
      "0it [00:00, ?it/s]\u001b[A"
     ]
    },
    {
     "name": "stdout",
     "output_type": "stream",
     "text": [
      "Extracting ./MINIST/MNIST/raw/train-labels-idx1-ubyte.gz\n",
      "Downloading http://yann.lecun.com/exdb/mnist/t10k-images-idx3-ubyte.gz to ./MINIST/MNIST/raw/t10k-images-idx3-ubyte.gz\n"
     ]
    },
    {
     "name": "stderr",
     "output_type": "stream",
     "text": [
      "\n",
      "  0%|          | 0/1648877 [00:00<?, ?it/s]\u001b[A\n",
      "  1%|          | 16384/1648877 [00:00<00:26, 62006.13it/s]\u001b[A\n",
      "  2%|▏         | 40960/1648877 [00:01<00:24, 64448.36it/s]\u001b[A\n",
      "  5%|▍         | 81920/1648877 [00:01<00:22, 68467.61it/s]\u001b[A\n",
      "  7%|▋         | 114688/1648877 [00:02<00:21, 70170.51it/s]\u001b[A\n",
      " 15%|█▍        | 245760/1648877 [00:02<00:15, 87840.05it/s]\u001b[A\n",
      " 24%|██▍       | 401408/1648877 [00:03<00:10, 117299.09it/s]\u001b[A\n",
      " 27%|██▋       | 442368/1648877 [00:03<00:08, 140888.10it/s]\u001b[A\n",
      " 28%|██▊       | 466944/1648877 [00:03<00:11, 106453.91it/s]\u001b[A\n",
      " 34%|███▍      | 557056/1648877 [00:03<00:07, 140784.40it/s]\u001b[A\n",
      " 36%|███▋      | 598016/1648877 [00:04<00:08, 119113.51it/s]\u001b[A\n",
      " 45%|████▍     | 737280/1648877 [00:04<00:05, 157689.98it/s]\u001b[A\n",
      " 47%|████▋     | 778240/1648877 [00:04<00:04, 183260.82it/s]\u001b[A\n",
      " 50%|████▉     | 819200/1648877 [00:04<00:04, 205308.74it/s]\u001b[A\n",
      " 53%|█████▎    | 868352/1648877 [00:04<00:03, 227190.37it/s]\u001b[A\n",
      " 55%|█████▌    | 909312/1648877 [00:04<00:03, 240834.78it/s]\u001b[A\n",
      " 57%|█████▋    | 942080/1648877 [00:05<00:02, 249557.93it/s]\u001b[A\n",
      " 60%|██████    | 991232/1648877 [00:05<00:02, 292638.52it/s]\u001b[A\n",
      " 63%|██████▎   | 1032192/1648877 [00:05<00:02, 283287.90it/s]\u001b[A\n",
      " 65%|██████▍   | 1064960/1648877 [00:06<00:05, 102278.87it/s]\u001b[A\n",
      " 79%|███████▉  | 1310720/1648877 [00:06<00:02, 134254.84it/s]\u001b[A\n",
      " 86%|████████▌ | 1417216/1648877 [00:06<00:01, 164838.75it/s]\u001b[A\n",
      " 90%|█████████ | 1490944/1648877 [00:07<00:00, 188484.08it/s]\u001b[A\n",
      "\n",
      "0it [00:00, ?it/s]\u001b[A\u001b[A"
     ]
    },
    {
     "name": "stdout",
     "output_type": "stream",
     "text": [
      "Extracting ./MINIST/MNIST/raw/t10k-images-idx3-ubyte.gz\n",
      "Downloading http://yann.lecun.com/exdb/mnist/t10k-labels-idx1-ubyte.gz to ./MINIST/MNIST/raw/t10k-labels-idx1-ubyte.gz\n"
     ]
    },
    {
     "name": "stderr",
     "output_type": "stream",
     "text": [
      "\n",
      "\n",
      "8192it [00:00, 15843.36it/s]            \u001b[A\u001b[A\n"
     ]
    },
    {
     "name": "stdout",
     "output_type": "stream",
     "text": [
      "Extracting ./MINIST/MNIST/raw/t10k-labels-idx1-ubyte.gz\n",
      "Processing...\n",
      "Done!\n"
     ]
    },
    {
     "name": "stderr",
     "output_type": "stream",
     "text": [
      "9920512it [00:39, 349213.41it/s]                             \n",
      "1654784it [00:21, 188484.08it/s]                             \u001b[A"
     ]
    }
   ],
   "source": [
    "train_data = torchvision.datasets.MNIST(\n",
    "    root = './MINIST',  #数据集的位置\n",
    "    train = True,       #如果为True则为训练集，如果为False则为测试集\n",
    "    transform = torchvision.transforms.ToTensor(),   #将图片转化成取值[0,1]的Tensor用于网络处理\n",
    "    download=True                         #先下载数据集\n",
    ")"
   ]
  },
  {
   "cell_type": "code",
   "execution_count": 3,
   "metadata": {},
   "outputs": [],
   "source": [
    "train_data = torchvision.datasets.MNIST(\n",
    "    root = './MINIST',  #数据集的位置\n",
    "    train = True,       #如果为True则为训练集，如果为False则为测试集\n",
    "    transform = torchvision.transforms.ToTensor()   #将图片转化成取值[0,1]的Tensor用于网络处理\n",
    ")\n",
    "test_data = torchvision.datasets.MNIST(\n",
    "    root = './MINIST',  #数据集的位置\n",
    "    train = False,       #如果为True则为训练集，如果为False则为测试集\n",
    "    transform = torchvision.transforms.ToTensor()   #将图片转化成取值[0,1]的Tensor用于网络处理\n",
    ")"
   ]
  },
  {
   "cell_type": "code",
   "execution_count": 3,
   "metadata": {},
   "outputs": [
    {
     "data": {
      "text/plain": [
       "Dataset MNIST\n",
       "    Number of datapoints: 60000\n",
       "    Root location: ./MINIST\n",
       "    Split: Train"
      ]
     },
     "execution_count": 3,
     "metadata": {},
     "output_type": "execute_result"
    }
   ],
   "source": [
    "train_data"
   ]
  },
  {
   "cell_type": "code",
   "execution_count": 4,
   "metadata": {},
   "outputs": [
    {
     "data": {
      "text/plain": [
       "Dataset MNIST\n",
       "    Number of datapoints: 10000\n",
       "    Root location: ./MINIST\n",
       "    Split: Test"
      ]
     },
     "execution_count": 4,
     "metadata": {},
     "output_type": "execute_result"
    }
   ],
   "source": [
    "test_data"
   ]
  },
  {
   "cell_type": "code",
   "execution_count": 5,
   "metadata": {},
   "outputs": [],
   "source": [
    "#使用原始数据的均值(Mean)和标准差(Standard Deviation)来进行数据的标准化,\n",
    "#在经过标准化变换之后,数据全部符合均值为 0、标准差为 1 的标准正态分布\n",
    "#这里假设均值为0.5,标准差为0.5,都为3个通道\n",
    "transform=transforms.Compose([transforms.ToTensor(),\n",
    "                              transforms.Normalize(mean=[0.5,0.5,0.5],\n",
    "                                                   std=[0.5,0.5,0.5])])"
   ]
  },
  {
   "cell_type": "code",
   "execution_count": 6,
   "metadata": {},
   "outputs": [
    {
     "data": {
      "text/plain": [
       "Compose(\n",
       "    ToTensor()\n",
       "    Normalize(mean=[0.5, 0.5, 0.5], std=[0.5, 0.5, 0.5])\n",
       ")"
      ]
     },
     "execution_count": 6,
     "metadata": {},
     "output_type": "execute_result"
    }
   ],
   "source": [
    "transform"
   ]
  },
  {
   "cell_type": "code",
   "execution_count": 7,
   "metadata": {},
   "outputs": [],
   "source": [
    "data_loader_train=torch.utils.data.DataLoader(train_data,\n",
    "                                             batch_size=64,\n",
    "                                              shuffle = True)\n",
    "data_loader_test=torch.utils.data.DataLoader(test_data,\n",
    "                                             batch_size=64,\n",
    "                                              shuffle = True)"
   ]
  },
  {
   "cell_type": "code",
   "execution_count": 8,
   "metadata": {},
   "outputs": [],
   "source": [
    "#next读取iter迭代器的下一个，这里读取第一个\n",
    "images, labels = next(iter(data_loader_train))\n",
    "img = torchvision.utils.make_grid(images)"
   ]
  },
  {
   "cell_type": "code",
   "execution_count": 12,
   "metadata": {},
   "outputs": [
    {
     "data": {
      "text/plain": [
       "torch.Size([64, 1, 28, 28])"
      ]
     },
     "execution_count": 12,
     "metadata": {},
     "output_type": "execute_result"
    }
   ],
   "source": [
    "images.size()"
   ]
  },
  {
   "cell_type": "code",
   "execution_count": 5,
   "metadata": {},
   "outputs": [],
   "source": [
    "img = img.numpy().transpose(1,2,0)"
   ]
  },
  {
   "cell_type": "code",
   "execution_count": 6,
   "metadata": {},
   "outputs": [
    {
     "name": "stdout",
     "output_type": "stream",
     "text": [
      "[tensor(9), tensor(4), tensor(2), tensor(7), tensor(2), tensor(3), tensor(6), tensor(2), tensor(9), tensor(1), tensor(0), tensor(2), tensor(8), tensor(5), tensor(9), tensor(3), tensor(4), tensor(4), tensor(3), tensor(1), tensor(9), tensor(2), tensor(7), tensor(1), tensor(6), tensor(1), tensor(2), tensor(6), tensor(0), tensor(3), tensor(3), tensor(4), tensor(9), tensor(5), tensor(7), tensor(6), tensor(4), tensor(9), tensor(0), tensor(9), tensor(2), tensor(4), tensor(0), tensor(6), tensor(4), tensor(8), tensor(9), tensor(0), tensor(6), tensor(4), tensor(3), tensor(1), tensor(7), tensor(4), tensor(2), tensor(1), tensor(3), tensor(1), tensor(8), tensor(6), tensor(8), tensor(0), tensor(8), tensor(6)]\n"
     ]
    },
    {
     "data": {
      "text/plain": [
       "<matplotlib.image.AxesImage at 0x7f8055934490>"
      ]
     },
     "execution_count": 6,
     "metadata": {},
     "output_type": "execute_result"
    },
    {
     "data": {
      "image/png": "[encoded data removed]",
      "text/plain": [
       "<Figure size 432x288 with 1 Axes>"
      ]
     },
     "metadata": {
      "needs_background": "light"
     },
     "output_type": "display_data"
    }
   ],
   "source": [
    "std = [0.5,0.5,0.5]\n",
    "mean=[0.5,0.5,0.5]\n",
    "img = img*std+mean\n",
    "print([labels[i] for i in range(64)])\n",
    "plt.imshow(img)"
   ]
  },
  {
   "cell_type": "code",
   "execution_count": 5,
   "metadata": {},
   "outputs": [],
   "source": [
    "#Paddingde 的数据类型是整型,值为 0 时表示不进行边界像素的填充,如果值大于 0,则增加相应边界像素层数\n",
    "#Dropout 类用于防止卷积神经网络在训练的过程中发生过拟合，模型训练的过程中,以一定的随机概率将卷积神经网络模型的部分参数归零,以减少相邻两层神经连接\n",
    "class Model(torch.nn.Module):\n",
    "    def __init__(self):\n",
    "        super(Model,self).__init__()\n",
    "        self.conv1=torch.nn.Sequential(\n",
    "                torch.nn.Conv2d(1,64,kernel_size=3,stride=1,padding=1),\n",
    "                torch.nn.ReLU(),\n",
    "                torch.nn.Conv2d(64,128,kernel_size=3,stride=1,padding=1),\n",
    "                torch.nn.MaxPool2d(stride=2,kernel_size=2))\n",
    "        self.dense=torch.nn.Sequential(\n",
    "                torch.nn.Linear(14*14*128,1024),\n",
    "                torch.nn.ReLU(),\n",
    "                torch.nn.Dropout(p=0.5),\n",
    "                torch.nn.Linear(1024,10))\n",
    "    def forward(self,x):\n",
    "        x=self.conv1(x)\n",
    "        x=x.view(-1,14*14*128)\n",
    "        x=self.dense(x)\n",
    "        return x\n",
    "    "
   ]
  },
  {
   "cell_type": "code",
   "execution_count": 3,
   "metadata": {},
   "outputs": [],
   "source": [
    "model = Model()\n",
    "cost = torch.nn.CrossEntropyLoss()\n",
    "optimizer = torch.optim.Adam(model.parameters())"
   ]
  },
  {
   "cell_type": "code",
   "execution_count": 11,
   "metadata": {},
   "outputs": [
    {
     "name": "stdout",
     "output_type": "stream",
     "text": [
      "True\n"
     ]
    }
   ],
   "source": [
    "print(model.training)"
   ]
  },
  {
   "cell_type": "code",
   "execution_count": 18,
   "metadata": {},
   "outputs": [
    {
     "name": "stdout",
     "output_type": "stream",
     "text": [
      "Epoch0/5\n",
      "----------\n",
      "Loss is:0.0040,Train Accuracy is:98.0000%,Test Accuracy is98.0000\n",
      "Epoch1/5\n",
      "----------\n",
      "Loss is:0.0033,Train Accuracy is:98.0000%,Test Accuracy is98.0000\n",
      "Epoch2/5\n",
      "----------\n",
      "Loss is:0.0025,Train Accuracy is:99.0000%,Test Accuracy is98.0000\n",
      "Epoch3/5\n",
      "----------\n",
      "Loss is:0.0023,Train Accuracy is:99.0000%,Test Accuracy is98.0000\n",
      "Epoch4/5\n",
      "----------\n",
      "Loss is:0.0022,Train Accuracy is:99.0000%,Test Accuracy is98.0000\n"
     ]
    }
   ],
   "source": [
    "n_epochs = 5\n",
    "\n",
    "for epoch in range(n_epochs):\n",
    "    running_loss=0.0\n",
    "    running_correct=0\n",
    "    print(\"Epoch{}/{}\".format(epoch,n_epochs))\n",
    "    print(\"-\"*10)\n",
    "    for data in data_loader_train:\n",
    "        x_train,y_train=data \n",
    "        x_train,ty_train=Variable(x_train),Variable(y_train)\n",
    "        outputs=model(x_train)\n",
    "        _,pred=torch.max(outputs.data,1)\n",
    "        optimizer.zero_grad()\n",
    "        loss=cost(outputs,y_train)\n",
    "        \n",
    "        loss.backward()\n",
    "        optimizer.step()\n",
    "        running_loss+=loss.data\n",
    "        running_correct+=torch.sum(pred==y_train.data)\n",
    "        \n",
    "    testing_correct=0\n",
    "    for data in data_loader_test:\n",
    "        x_test,y_test=data\n",
    "        x_test,y_test=Variable(x_test),Variable(y_test)\n",
    "        outputs=model(x_test)\n",
    "        _,pred=torch.max(outputs.data,1)\n",
    "        testing_correct+=torch.sum(pred==y_test.data)\n",
    "    print(\"Loss is:{:.4f},Train Accuracy is:{:.4f}%,Test Accuracy is{:.4f}\".format(running_loss/len(test_data),100*running_correct/len(train_data),100*testing_correct/len(test_data)))"
   ]
  },
  {
   "cell_type": "code",
   "execution_count": 24,
   "metadata": {},
   "outputs": [],
   "source": [
    "data_loader_test_with_4=torch.utils.data.DataLoader(dataset=test_data,\n",
    "                                                    batch_size=4,\n",
    "                                                    shuffle=True)"
   ]
  },
  {
   "cell_type": "code",
   "execution_count": 42,
   "metadata": {},
   "outputs": [
    {
     "data": {
      "text/plain": [
       "tensor([4, 1, 0, 2])"
      ]
     },
     "execution_count": 42,
     "metadata": {},
     "output_type": "execute_result"
    }
   ],
   "source": [
    "x_test,y_test=next(iter(data_loader_test_with_4))\n",
    "inputs=Variable(x_test)\n",
    "pred=model(inputs)\n",
    "_,pred=torch.max(pred,1)\n",
    "pred"
   ]
  },
  {
   "cell_type": "code",
   "execution_count": 43,
   "metadata": {},
   "outputs": [
    {
     "name": "stdout",
     "output_type": "stream",
     "text": [
      "predict Label is: [tensor(4), tensor(1), tensor(0), tensor(2)]\n",
      "Real Label is: [tensor(4), tensor(1), tensor(0), tensor(2)]\n"
     ]
    },
    {
     "data": {
      "text/plain": [
       "<matplotlib.image.AxesImage at 0x7f8042c38290>"
      ]
     },
     "execution_count": 43,
     "metadata": {},
     "output_type": "execute_result"
    },
    {
     "data": {
      "image/png": "[encoded data removed]",
      "text/plain": [
       "<Figure size 432x288 with 1 Axes>"
      ]
     },
     "metadata": {
      "needs_background": "light"
     },
     "output_type": "display_data"
    }
   ],
   "source": [
    "print(\"predict Label is:\",[i for i in pred.data])\n",
    "print(\"Real Label is:\",[i for i in y_test])\n",
    "\n",
    "img = torchvision.utils.make_grid(x_test)\n",
    "img = img.numpy().transpose(1,2,0)\n",
    "\n",
    "# std = [0.5,0.5,0.5]\n",
    "# mean = [0.5,0.5,0.5]\n",
    "# img = img*std+mean\n",
    "plt.imshow(img)"
   ]
  },
  {
   "cell_type": "code",
   "execution_count": null,
   "metadata": {},
   "outputs": [],
   "source": []
  }
 ],
 "metadata": {
  "kernelspec": {
   "display_name": "Python 3",
   "language": "python",
   "name": "python3"
  },
  "language_info": {
   "codemirror_mode": {
    "name": "ipython",
    "version": 3
   },
   "file_extension": ".py",
   "mimetype": "text/x-python",
   "name": "python",
   "nbconvert_exporter": "python",
   "pygments_lexer": "ipython3",
   "version": "3.7.6"
  }
 },
 "nbformat": 4,
 "nbformat_minor": 4
}
