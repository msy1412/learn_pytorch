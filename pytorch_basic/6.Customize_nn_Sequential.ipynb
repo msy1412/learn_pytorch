{
 "cells": [
  {
   "cell_type": "code",
   "execution_count": 1,
   "metadata": {},
   "outputs": [],
   "source": [
    "import torch\n",
    "from torch.autograd import Variable"
   ]
  },
  {
   "cell_type": "code",
   "execution_count": 2,
   "metadata": {},
   "outputs": [],
   "source": [
    "batch_n=100\n",
    "hidden_layer = 100\n",
    "input_data = 1000\n",
    "output_data = 10"
   ]
  },
  {
   "cell_type": "code",
   "execution_count": 3,
   "metadata": {},
   "outputs": [],
   "source": [
    "x= Variable(torch.randn(batch_n,input_data),requires_grad = False)\n",
    "y= Variable(torch.randn(batch_n,output_data),requires_grad = False)"
   ]
  },
  {
   "cell_type": "code",
   "execution_count": 4,
   "metadata": {},
   "outputs": [],
   "source": [
    "#sequential定义各层结构\n",
    "#Linear默认使用bias：bias=True\n",
    "models = torch.nn.Sequential(\n",
    "    torch.nn.Linear(input_data,hidden_layer),\n",
    "    torch.nn.ReLU(),\n",
    "    torch.nn.Linear(hidden_layer,output_data)\n",
    "    )"
   ]
  },
  {
   "cell_type": "code",
   "execution_count": 5,
   "metadata": {},
   "outputs": [
    {
     "name": "stdout",
     "output_type": "stream",
     "text": [
      "Sequential(\n",
      "  (0): Linear(in_features=1000, out_features=100, bias=True)\n",
      "  (1): ReLU()\n",
      "  (2): Linear(in_features=100, out_features=10, bias=True)\n",
      ")\n"
     ]
    }
   ],
   "source": [
    "print(models)#只能默认用数字命名各层"
   ]
  },
  {
   "cell_type": "code",
   "execution_count": 6,
   "metadata": {},
   "outputs": [
    {
     "name": "stdout",
     "output_type": "stream",
     "text": [
      "Sequential(\n",
      "  (Line1): Linear(in_features=1000, out_features=100, bias=True)\n",
      "  (Relu1): ReLU()\n",
      "  (Line2): Linear(in_features=100, out_features=10, bias=True)\n",
      ")\n"
     ]
    }
   ],
   "source": [
    "#使用 orderdict 有序字典进行传入来搭建,可自命名\n",
    "from collections import OrderedDict\n",
    "model_1 = torch.nn.Sequential(OrderedDict([\n",
    "    (\"Line1\",torch.nn.Linear(input_data, hidden_layer)),\n",
    "    (\"Relu1\",torch.nn.ReLU()),\n",
    "    (\"Line2\",torch.nn.Linear(hidden_layer, output_data))])\n",
    ")\n",
    "print(model_1)"
   ]
  },
  {
   "cell_type": "code",
   "execution_count": 7,
   "metadata": {},
   "outputs": [
    {
     "name": "stdout",
     "output_type": "stream",
     "text": [
      "tensor(1.9884)\n"
     ]
    }
   ],
   "source": [
    "#均方误差函数\n",
    "loss_f1 = torch.nn.MSELoss()\n",
    "x1 = Variable(torch.randn(100,100))\n",
    "y1 = Variable(torch.randn(100,100))\n",
    "loss = loss_f1(x1,y1)\n",
    "print(loss.data)"
   ]
  },
  {
   "cell_type": "code",
   "execution_count": 8,
   "metadata": {},
   "outputs": [
    {
     "name": "stdout",
     "output_type": "stream",
     "text": [
      "tensor(1.1320)\n"
     ]
    }
   ],
   "source": [
    "#平均绝对误差函数\n",
    "loss_f2 = torch.nn.L1Loss()\n",
    "x2 = Variable(torch.randn(100,100))\n",
    "y2 = Variable(torch.randn(100,100))\n",
    "loss = loss_f2(x2,y2)\n",
    "print(loss.data)"
   ]
  },
  {
   "cell_type": "code",
   "execution_count": 9,
   "metadata": {},
   "outputs": [
    {
     "name": "stdout",
     "output_type": "stream",
     "text": [
      "tensor(2.1139)\n"
     ]
    }
   ],
   "source": [
    "#计算交叉熵\n",
    "loss_f3 = torch.nn.CrossEntropyLoss()\n",
    "x3 = Variable(torch.randn(3, 5))\n",
    "y3 = Variable(torch.LongTensor(3).random_(5))\n",
    "loss = loss_f3(x3,y3)\n",
    "print(loss.data)"
   ]
  },
  {
   "cell_type": "code",
   "execution_count": 17,
   "metadata": {},
   "outputs": [
    {
     "name": "stdout",
     "output_type": "stream",
     "text": [
      "<generator object Module.parameters at 0x7f05356e1150>\n"
     ]
    }
   ],
   "source": [
    "print(models.parameters())"
   ]
  },
  {
   "cell_type": "code",
   "execution_count": 22,
   "metadata": {},
   "outputs": [
    {
     "name": "stdout",
     "output_type": "stream",
     "text": [
      "Epoch:0,Loss:0.5863\n",
      "Epoch:1000,Loss:0.5712\n",
      "Epoch:2000,Loss:0.5567\n",
      "Epoch:3000,Loss:0.5427\n",
      "Epoch:4000,Loss:0.5288\n",
      "Epoch:5000,Loss:0.5152\n",
      "Epoch:6000,Loss:0.5019\n",
      "Epoch:7000,Loss:0.4887\n",
      "Epoch:8000,Loss:0.4755\n",
      "Epoch:9000,Loss:0.4625\n"
     ]
    }
   ],
   "source": [
    "epoch_n = 10000\n",
    "learning_rate = 1e-4\n",
    "loss_f1 = torch.nn.MSELoss()\n",
    "loss_f2 = torch.nn.L1Loss()\n",
    "\n",
    "loss_f3 = torch.nn.CrossEntropyLoss()\n",
    "for epoch in range(epoch_n):\n",
    "    y_pred = models(x)\n",
    "    loss = loss_f2(y_pred,y)\n",
    "    \n",
    "    if epoch%1000 ==0:\n",
    "        print(\"Epoch:{},Loss:{:.4f}\".format(epoch,loss.data))\n",
    "        \n",
    "    models.zero_grad()\n",
    "    \n",
    "    loss.backward()\n",
    "    \n",
    "    for param in models.parameters():\n",
    "        param.data -= param.grad.data*learning_rate"
   ]
  },
  {
   "cell_type": "code",
   "execution_count": null,
   "metadata": {},
   "outputs": [],
   "source": []
  },
  {
   "cell_type": "code",
   "execution_count": null,
   "metadata": {},
   "outputs": [],
   "source": []
  }
 ],
 "metadata": {
  "kernelspec": {
   "display_name": "Python 3",
   "language": "python",
   "name": "python3"
  },
  "language_info": {
   "codemirror_mode": {
    "name": "ipython",
    "version": 3
   },
   "file_extension": ".py",
   "mimetype": "text/x-python",
   "name": "python",
   "nbconvert_exporter": "python",
   "pygments_lexer": "ipython3",
   "version": "3.7.6"
  }
 },
 "nbformat": 4,
 "nbformat_minor": 4
}
