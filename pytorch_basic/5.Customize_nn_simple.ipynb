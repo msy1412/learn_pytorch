{
 "cells": [
  {
   "cell_type": "code",
   "execution_count": 1,
   "metadata": {},
   "outputs": [],
   "source": [
    "import torch as t\n",
    "from torch.autograd import Variable"
   ]
  },
  {
   "cell_type": "code",
   "execution_count": 6,
   "metadata": {},
   "outputs": [],
   "source": [
    "batch_n = 64\n",
    "hidden_layer = 100\n",
    "input_data = 1000\n",
    "output_data = 10"
   ]
  },
  {
   "cell_type": "code",
   "execution_count": 7,
   "metadata": {},
   "outputs": [],
   "source": [
    "x = Variable(t.randn(batch_n, input_data), requires_grad = False)\n",
    "y = Variable(t.randn(batch_n, output_data), requires_grad = False)\n",
    "w1 = Variable(t.randn(input_data, hidden_layer), requires_grad = True)\n",
    "w2 = Variable(t.randn(hidden_layer, output_data) ,requires_grad = True)"
   ]
  },
  {
   "cell_type": "code",
   "execution_count": 8,
   "metadata": {},
   "outputs": [],
   "source": [
    "class Model(t.nn.Module):\n",
    "    def __init__(self):\n",
    "        super(Model, self).__init__()\n",
    "        \n",
    "    def forward(self,input,w1,w2):\n",
    "        x=t.mm(input,w1)\n",
    "        x=t.clamp(x,min=0)\n",
    "        x=t.mm(x,w2)\n",
    "        return x\n",
    "    \n",
    "    def backward(self):\n",
    "        pass"
   ]
  },
  {
   "cell_type": "code",
   "execution_count": 9,
   "metadata": {},
   "outputs": [
    {
     "name": "stdout",
     "output_type": "stream",
     "text": [
      "Model()\n"
     ]
    }
   ],
   "source": [
    "model = Model()\n",
    "print(model)"
   ]
  },
  {
   "cell_type": "code",
   "execution_count": 11,
   "metadata": {},
   "outputs": [
    {
     "name": "stdout",
     "output_type": "stream",
     "text": [
      "0 80482.984375\n",
      "1 73460.625\n",
      "2 67175.78125\n",
      "3 61542.3359375\n",
      "4 56485.6328125\n",
      "5 51925.62109375\n",
      "6 47805.1328125\n",
      "7 44074.484375\n",
      "8 40691.40625\n",
      "9 37616.16015625\n",
      "10 34815.9296875\n",
      "11 32261.87109375\n",
      "12 29928.322265625\n",
      "13 27792.888671875\n",
      "14 25837.00390625\n",
      "15 24042.12109375\n",
      "16 22392.810546875\n",
      "17 20875.60546875\n",
      "18 19478.15234375\n",
      "19 18189.568359375\n",
      "20 16999.728515625\n",
      "21 15903.150390625\n",
      "22 14893.734375\n",
      "23 13958.541015625\n",
      "24 13091.220703125\n",
      "25 12285.7451171875\n",
      "26 11536.783203125\n",
      "27 10839.8876953125\n",
      "28 10190.9208984375\n",
      "29 9586.556640625\n"
     ]
    }
   ],
   "source": [
    "epoch_n = 30\n",
    "learning_rate = 1e-6\n",
    "\n",
    "for epoch in range(epoch_n):\n",
    "    y_pred = model.forward(x,w1,w2)\n",
    "    \n",
    "    loss=(y_pred-y).pow(2).sum()\n",
    "    print(epoch,loss.item())\n",
    "    loss.backward()\n",
    "    \n",
    "    w1.data-=learning_rate*w1.grad.data\n",
    "    w2.data-=learning_rate*w2.grad.data\n",
    "    \n",
    "    w1.grad.data.zero_()\n",
    "    w2.grad.data.zero_()"
   ]
  },
  {
   "cell_type": "code",
   "execution_count": null,
   "metadata": {},
   "outputs": [],
   "source": []
  }
 ],
 "metadata": {
  "kernelspec": {
   "display_name": "Python 3",
   "language": "python",
   "name": "python3"
  },
  "language_info": {
   "codemirror_mode": {
    "name": "ipython",
    "version": 3
   },
   "file_extension": ".py",
   "mimetype": "text/x-python",
   "name": "python",
   "nbconvert_exporter": "python",
   "pygments_lexer": "ipython3",
   "version": "3.7.6"
  }
 },
 "nbformat": 4,
 "nbformat_minor": 4
}
